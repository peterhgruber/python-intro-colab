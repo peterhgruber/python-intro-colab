{
  "cells": [
    {
      "cell_type": "markdown",
      "id": "565868a5",
      "metadata": {
        "id": "565868a5"
      },
      "source": [
        "<a target=\"_blank\" href=\"https://colab.research.google.com/github/peterhgruber/python-intro-colab/blob/main/02Python_Functions.ipynb\">\n",
        "<img src=\"https://colab.research.google.com/assets/colab-badge.svg\" alt=\"Open In Colab\"/></a>"
      ]
    },
    {
      "cell_type": "markdown",
      "id": "906395dc-5bd1-477f-af29-72c03d8e239e",
      "metadata": {
        "id": "906395dc-5bd1-477f-af29-72c03d8e239e"
      },
      "source": [
        "# Introduction to Python\n",
        "### Main concepts of Python – Part 02\n",
        "Peter Gruber (peter.gruber@usi.ch), 2024-04-01\n",
        "\n",
        "* Bult-in functions\n",
        "* Packages\n",
        "* Create your own function\n",
        "    * Simple lambda function\n",
        "    * Full function with `def`\n",
        "    * Default values and arguments\n",
        "    * Standard Google documentation structure"
      ]
    },
    {
      "cell_type": "markdown",
      "id": "9ff92329",
      "metadata": {
        "id": "9ff92329"
      },
      "source": [
        "## 1 Built-in functions\n",
        "- Functions in core Python that do not require a package"
      ]
    },
    {
      "cell_type": "code",
      "execution_count": null,
      "id": "26644cd9-6523-4387-8e8c-a4eb37349054",
      "metadata": {
        "id": "26644cd9-6523-4387-8e8c-a4eb37349054"
      },
      "outputs": [],
      "source": [
        "print(1+1)"
      ]
    },
    {
      "cell_type": "code",
      "execution_count": null,
      "id": "78d44366-4170-4f15-9326-db1b6d3bcdc1",
      "metadata": {
        "id": "78d44366-4170-4f15-9326-db1b6d3bcdc1"
      },
      "outputs": [],
      "source": [
        "abs(-3)"
      ]
    },
    {
      "cell_type": "markdown",
      "id": "3d2575b2-23f2-4542-a25b-3fb2f1a2618d",
      "metadata": {
        "id": "3d2575b2-23f2-4542-a25b-3fb2f1a2618d"
      },
      "source": [
        "#### 👍 1.1  Suggestions with `crtl`-`Space`\n",
        "* To find any command, type the first letter and then `crtl`-`Space`\n",
        "* A list of suggestions will be displayed\n",
        "\n",
        "**Example**\n",
        "* Round `a` usin the `round` function\n",
        "* Type `r` and then `crtl`-`Space`\n",
        "    * Once you have found the `round` function, type `crtl`-`Space` again to get more information"
      ]
    },
    {
      "cell_type": "code",
      "execution_count": null,
      "id": "a51c9622-4958-48d4-a3f2-12d8779db52c",
      "metadata": {
        "id": "a51c9622-4958-48d4-a3f2-12d8779db52c"
      },
      "outputs": [],
      "source": [
        "a = 123.4567\n",
        "# type `r` and then `crtl`-`Space` here\n",
        "r"
      ]
    },
    {
      "cell_type": "markdown",
      "id": "d508fb5e-7d2c-4649-be7d-63be4d3dded3",
      "metadata": {
        "id": "d508fb5e-7d2c-4649-be7d-63be4d3dded3"
      },
      "source": [
        "#### 1.2 Using `help`\n",
        "* Use `help( <name_of_function> )`\n",
        "\n",
        "**Exercise**\n",
        "* Find the help text for `round()`"
      ]
    },
    {
      "cell_type": "code",
      "execution_count": null,
      "id": "bb6ff12e-4967-48a9-9fb5-5bbbaed16d9e",
      "metadata": {
        "id": "bb6ff12e-4967-48a9-9fb5-5bbbaed16d9e"
      },
      "outputs": [],
      "source": [
        "# help request goes here\n"
      ]
    },
    {
      "cell_type": "markdown",
      "id": "667f3be7",
      "metadata": {
        "id": "667f3be7"
      },
      "source": [
        "## 2 More functions using modules\n",
        "* Core Python has **very few** built-in mathematical functions, not even $\\sqrt{x}, \\pi, e^x$ or $\\log()$\n",
        "* Import appropriate modules to extend Python's fuctionality\n",
        "    * Larger modules are called *packages*\n",
        "    * The terms are often used as synonyms\n",
        "* Syntax `module.function()`\n",
        "\n",
        "More aobut modules in Part 4 <a target=\"_blank\" href=\"https://colab.research.google.com/github/peterhgruber/python-intro-colab/blob/main/04Python_Modules.ipynb\">\n",
        "  <img src=\"https://colab.research.google.com/assets/colab-badge.svg\" alt=\"Open In Colab\"/>\n",
        "</a>"
      ]
    },
    {
      "cell_type": "code",
      "execution_count": null,
      "id": "299e59ee",
      "metadata": {
        "id": "299e59ee"
      },
      "outputs": [],
      "source": [
        "# Example: using the math module\n",
        "import math                     # <------- Import once per jupyter notebook or program\n",
        "print( math.sqrt(4) )\n",
        "print( math.pi )\n",
        "print( math.exp(1) )\n",
        "print( math.log(1) )"
      ]
    },
    {
      "cell_type": "markdown",
      "id": "c6a571f0",
      "metadata": {
        "id": "c6a571f0"
      },
      "source": [
        "#### 👍 2.1  Suggestions with modules\n",
        "\n",
        "**Exercise**\n",
        "* You want to calculate $10!$\n",
        "* Type `math.` and then `crtl`-`Space`\n",
        "    * Once you found the right function, type `crtl`-`Space` for more information"
      ]
    },
    {
      "cell_type": "code",
      "execution_count": null,
      "id": "57449575",
      "metadata": {
        "id": "57449575"
      },
      "outputs": [],
      "source": [
        "math."
      ]
    },
    {
      "cell_type": "markdown",
      "id": "cf9f17ad",
      "metadata": {
        "id": "cf9f17ad"
      },
      "source": [
        "## 3 Your first function using `lambda`\n",
        "\n",
        "- `lambda` functions: quick 1-line functions\n",
        "    + So-called *anonymous* function\n",
        "    + Also used in optimization to express constraints\n",
        "\n",
        "**Example**\n",
        "* Function $f(x) = x^2 - 2x + 1$\n",
        "* Do not forget the `*` in $2x$"
      ]
    },
    {
      "cell_type": "code",
      "execution_count": null,
      "id": "0899cf36",
      "metadata": {
        "id": "0899cf36"
      },
      "outputs": [],
      "source": [
        "# Example\n",
        "f = lambda x: x**2 - 2*x +1\n",
        "f(2)"
      ]
    },
    {
      "cell_type": "markdown",
      "id": "b776d326",
      "metadata": {
        "id": "b776d326"
      },
      "source": [
        "**Exercise**\n",
        "* Create a function called `norm_dens` that returns the density of the standard normal distribution $f(x)={\\frac {1}{ {\\sqrt {2\\pi }}}}e^{-{\\frac {{x}^{2}}{2}}}$\n",
        "* Do not forget to ..."
      ]
    },
    {
      "cell_type": "code",
      "execution_count": null,
      "id": "16f5c20d-333a-4136-bec9-9614a7ccd0ba",
      "metadata": {
        "id": "16f5c20d-333a-4136-bec9-9614a7ccd0ba"
      },
      "outputs": [],
      "source": [
        "# Python code goes here"
      ]
    },
    {
      "cell_type": "code",
      "execution_count": null,
      "id": "372b9656",
      "metadata": {
        "id": "372b9656"
      },
      "outputs": [],
      "source": [
        "norm_dens(0)"
      ]
    },
    {
      "cell_type": "markdown",
      "id": "41f86100-b4b2-43a0-92c8-a0cdb5d628cd",
      "metadata": {
        "id": "41f86100-b4b2-43a0-92c8-a0cdb5d628cd"
      },
      "source": [
        "## 4 More elaborate functions using `def`\n",
        "\n",
        "- `def` functions allow for ...\n",
        "    * Multiple lines\n",
        "    * Default arguments\n",
        "    * Documentation\n",
        "- Use `return` the specify the result"
      ]
    },
    {
      "cell_type": "code",
      "execution_count": null,
      "id": "0bd1952e",
      "metadata": {
        "id": "0bd1952e"
      },
      "outputs": [],
      "source": [
        "# Previous example with def/return\n",
        "def f(x):\n",
        "    return x**2 - 2*x + 1\n"
      ]
    },
    {
      "cell_type": "code",
      "execution_count": null,
      "id": "b16677c0",
      "metadata": {
        "id": "b16677c0"
      },
      "outputs": [],
      "source": [
        "f(2)"
      ]
    },
    {
      "cell_type": "markdown",
      "id": "720fef75",
      "metadata": {
        "id": "720fef75"
      },
      "source": [
        "**Example**\n",
        "* Density of the uniform distribution between $a$ and $b$"
      ]
    },
    {
      "cell_type": "code",
      "execution_count": null,
      "id": "aae932be",
      "metadata": {
        "id": "aae932be"
      },
      "outputs": [],
      "source": [
        "def unif_dens(x,a,b):\n",
        "    # Case 1: x is outside the interval\n",
        "    if x < a or x > b:\n",
        "        return 0\n",
        "    # Case 2: x is inside the interval\n",
        "    else:\n",
        "        return 1/(b-a)"
      ]
    },
    {
      "cell_type": "code",
      "execution_count": null,
      "id": "6fb6cf75",
      "metadata": {
        "id": "6fb6cf75"
      },
      "outputs": [],
      "source": [
        "# Example: uniform distribution with a=-1 and b=1\n",
        "a = -1\n",
        "b = 1\n",
        "print( unif_dens(0, a, b) )\n",
        "print( unif_dens(-2, a, b) )"
      ]
    },
    {
      "cell_type": "markdown",
      "id": "a2acc1f5",
      "metadata": {
        "id": "a2acc1f5"
      },
      "source": [
        "#### 4.1 Documentation\n",
        "* Use triple quotation marks"
      ]
    },
    {
      "cell_type": "code",
      "execution_count": null,
      "id": "43a78c20",
      "metadata": {
        "id": "43a78c20"
      },
      "outputs": [],
      "source": [
        "def unif_dens(x,a,b):\n",
        "    \"\"\"\n",
        "    Compute the density of the uniform distribution.\n",
        "\n",
        "    Args:\n",
        "        x (float): Value of interest\n",
        "        a (float): Lower bound of the distribution\n",
        "        b (int): Upper bound of the distribution\n",
        "\n",
        "    Returns:\n",
        "        float: Density of the uniform distribution at x\n",
        "\n",
        "    Examples:\n",
        "        >>> unf_dens(0.5,0,1)\n",
        "        1.0\n",
        "\n",
        "        >>> unf_dens(5,0,1)\n",
        "        0.0\n",
        "    \"\"\"\n",
        "    # Case 1: x is outside the interval\n",
        "    if x < a or x > b:\n",
        "        return 0\n",
        "    # Case 2: x is inside the interval\n",
        "    else:\n",
        "        return 1/(b-a)"
      ]
    },
    {
      "cell_type": "markdown",
      "source": [
        "#### 4.2 Help text\n",
        "\n",
        "* By including a comment between `\"\"\"`, we have implicitly created a help text"
      ],
      "metadata": {
        "id": "xUIUyFdi9fia"
      },
      "id": "xUIUyFdi9fia"
    },
    {
      "cell_type": "code",
      "source": [
        "help(unif_dens)"
      ],
      "metadata": {
        "id": "XG_xE43n9r0m"
      },
      "id": "XG_xE43n9r0m",
      "execution_count": null,
      "outputs": []
    },
    {
      "cell_type": "markdown",
      "id": "926ea685",
      "metadata": {
        "id": "926ea685"
      },
      "source": [
        "#### 4.3 Call by order or name\n",
        "\n",
        "- Calling by **order**: position determines which argument is what\n",
        "- Calling by **name**: naming determines which argument is what (better, more explicit)\n",
        "\n",
        "➡️ Works for both `lambda` and `def`"
      ]
    },
    {
      "cell_type": "code",
      "execution_count": null,
      "id": "3e1eef27",
      "metadata": {
        "id": "3e1eef27"
      },
      "outputs": [],
      "source": [
        "# call by order\n",
        "unif_dens(0.5,0,3)"
      ]
    },
    {
      "cell_type": "code",
      "execution_count": null,
      "id": "52f2a268",
      "metadata": {
        "id": "52f2a268"
      },
      "outputs": [],
      "source": [
        "# call by name\n",
        "unif_dens(x=0.5, a=0, b=3)"
      ]
    },
    {
      "cell_type": "code",
      "execution_count": null,
      "id": "bfc3cf91",
      "metadata": {
        "id": "bfc3cf91"
      },
      "outputs": [],
      "source": [
        "# possibility to change the order (good idea?)\n",
        "unif_dens(a=0, b=3, x=0.5)"
      ]
    },
    {
      "cell_type": "markdown",
      "id": "ebfd3d38",
      "metadata": {
        "id": "ebfd3d38"
      },
      "source": [
        "## *5 Python code or function?\n",
        "\n",
        "**Advantages of functions:**\n",
        "* Reusable\n",
        "* Make code more readable\n",
        "* Make code more testable\n",
        "\n",
        "**Can you overdo functions?**\n",
        "* Sometimes ChatGPT wraps a simple expression in a function\n",
        "* Sometimes it creates a function `main()` instead of a program"
      ]
    },
    {
      "cell_type": "code",
      "execution_count": null,
      "id": "29789f62",
      "metadata": {
        "id": "29789f62"
      },
      "outputs": [],
      "source": [
        "# Example of a simple program\n",
        "golden_ratio = (1 + math.sqrt(5))/2\n",
        "print(golden_ratio)"
      ]
    },
    {
      "cell_type": "code",
      "execution_count": null,
      "id": "a01e0915",
      "metadata": {
        "id": "a01e0915"
      },
      "outputs": [],
      "source": [
        "# Example of packaging as function\n",
        "def golden_ratio():\n",
        "    return (1 + math.sqrt(5))/2\n",
        "print(golden_ratio())"
      ]
    },
    {
      "cell_type": "code",
      "execution_count": null,
      "id": "302ffca1",
      "metadata": {
        "id": "302ffca1"
      },
      "outputs": [],
      "source": [
        "# example of packaging with main():\n",
        "def golden_ratio():\n",
        "    return (1 + math.sqrt(5))/2\n",
        "\n",
        "def main():\n",
        "    print(golden_ratio())\n",
        "\n",
        "main()"
      ]
    }
  ],
  "metadata": {
    "kernelspec": {
      "display_name": "Python 3 (ipykernel)",
      "language": "python",
      "name": "python3"
    },
    "language_info": {
      "codemirror_mode": {
        "name": "ipython",
        "version": 3
      },
      "file_extension": ".py",
      "mimetype": "text/x-python",
      "name": "python",
      "nbconvert_exporter": "python",
      "pygments_lexer": "ipython3",
      "version": "3.11.5"
    },
    "colab": {
      "provenance": []
    }
  },
  "nbformat": 4,
  "nbformat_minor": 5
}