{
  "cells": [
    {
      "cell_type": "markdown",
      "metadata": {
        "id": "view-in-github",
        "colab_type": "text"
      },
      "source": [
        "<a href=\"https://colab.research.google.com/github/peterhgruber/python-intro-colab/blob/main/01Python_Intro.ipynb\" target=\"_parent\"><img src=\"https://colab.research.google.com/assets/colab-badge.svg\" alt=\"Open In Colab\"/></a>"
      ]
    },
    {
      "cell_type": "markdown",
      "metadata": {
        "id": "Bw3TfqTUa7go"
      },
      "source": [
        "# Introduction to Python\n",
        "### Main concepts of Python – Part 01\n",
        "Peter Gruber (peter.gruber@usi.ch), 2024-04-01\n",
        "\n",
        "* Jupyter Notebooks\n",
        "* The Google Colab environment\n",
        "* Variables\n",
        "* Operators"
      ]
    },
    {
      "cell_type": "markdown",
      "metadata": {
        "id": "-BuWgq08a7gp"
      },
      "source": [
        "## 0.1 Welcome to Jupyter\n",
        "+ *Notebooks* combine text, code and results\n",
        "- **Text** / **markdown** cells with text (*this one*)\n",
        "  + Double-click to edit, type `esc` to leave\n",
        "- **Code** cells with code+results (*below*)\n",
        "   + Always run from top to bottom\n",
        "  + Use `shift`-`Return` to execute a cell and move to next one\n"
      ]
    },
    {
      "cell_type": "code",
      "source": [
        "# Your first Python code\n",
        "# Shift-Return to run --> you will get a warning\n",
        "1+1"
      ],
      "metadata": {
        "colab": {
          "base_uri": "https://localhost:8080/"
        },
        "id": "IjIkJj_PbHUp",
        "outputId": "de748833-adf7-42b6-8dff-e1c8dbbf3bac"
      },
      "execution_count": 2,
      "outputs": [
        {
          "output_type": "execute_result",
          "data": {
            "text/plain": [
              "2"
            ]
          },
          "metadata": {},
          "execution_count": 2
        }
      ]
    },
    {
      "cell_type": "markdown",
      "source": [
        "#### Exercise\n",
        "* Add an empty text cell below and write a short comment\n",
        "    * Use the `+ Text` button at the bottom of the cell\n",
        "* Then add a code cell and calculate `1+1`"
      ],
      "metadata": {
        "id": "de782BLYa_9C"
      }
    },
    {
      "cell_type": "markdown",
      "metadata": {
        "id": "B4OjqaLJa7gq"
      },
      "source": [
        "## 0.2 Welcome to Google Colaboratory\n",
        "* Google's data science infrastructure\n",
        "    * Basic service free, pay for more power (CPU, GPU, RAM)\n",
        "    * Store notebooks and data in Google drive\n",
        "* Few useful menu commands\n",
        "    * File > Download > Download .ipynb\n",
        "    * File > Save a copy in Drive\n",
        "    * Runtime > Restart session\n",
        "* More info here: https://colab.research.google.com/notebooks/basic_features_overview.ipynb\n",
        "\n",
        "#### Exercise\n",
        "* Select the menu *File > Save a copy in Drive*\n",
        "* Store this notebook in your Google Drive\n",
        "    + A new window with your copy of this notebook will open\n",
        "* Rename (click top left)\n",
        "* Continue working in your copy on the Google Drive"
      ]
    },
    {
      "cell_type": "markdown",
      "metadata": {
        "id": "YWkPj9kHa7gq"
      },
      "source": [
        "## 1 Variables\n",
        "\n",
        "* Use `=` to assign a value\n",
        "* Created implicitly (=by assigning a value)\n",
        "* Names are **case-sensitive**\n",
        "* Show the value\n",
        "    * Type its name\n",
        "    * Use `print()`\n"
      ]
    },
    {
      "cell_type": "code",
      "execution_count": null,
      "metadata": {
        "id": "ol9NqOdAa7gq"
      },
      "outputs": [],
      "source": [
        "a = 1\n",
        "a"
      ]
    },
    {
      "cell_type": "code",
      "execution_count": null,
      "metadata": {
        "id": "C2GhijFJa7gq"
      },
      "outputs": [],
      "source": [
        "A"
      ]
    },
    {
      "cell_type": "markdown",
      "metadata": {
        "id": "H0rQLOtja7gr"
      },
      "source": [
        "### 1.1 List of variables\n",
        "* Only works in Jupyter: `%who` or `%whos`\n",
        "* So-called *line magic*, see here: https://ipython.readthedocs.io/en/stable/interactive/magics.html"
      ]
    },
    {
      "cell_type": "code",
      "execution_count": null,
      "metadata": {
        "id": "0yGFbKMoa7gr"
      },
      "outputs": [],
      "source": [
        "%who"
      ]
    },
    {
      "cell_type": "code",
      "execution_count": null,
      "metadata": {
        "id": "Nhu1OD1ca7gr"
      },
      "outputs": [],
      "source": [
        "%whos"
      ]
    },
    {
      "cell_type": "markdown",
      "metadata": {
        "id": "NuKwnfrSa7gr"
      },
      "source": [
        "## 2 Operators"
      ]
    },
    {
      "cell_type": "markdown",
      "metadata": {
        "id": "_3ZBjhaPa7gr"
      },
      "source": [
        "| Type  | Operators |\n",
        "|-------|-----------|\n",
        "| Arithmetic | `+`, `-`, `*`, `/`, `**`, `//`, `%` |\n",
        "| Comparison | `==`, `!=`, `<`, `>`, `<=`, `>=` |\n",
        "| Logical | `and`, `or`, `not` |\n",
        "| Assignment | `=`, `+=`, `-=`, `*=`, `/=`, `//=`, `%=`, `**=`,|\n",
        "| Membership | `in`, `not in` |\n",
        "| Identity | `is`, `is not` |"
      ]
    },
    {
      "cell_type": "markdown",
      "metadata": {
        "id": "n6HHqEx3a7gr"
      },
      "source": [
        "#### 2.1 Arithmetic\n",
        "* Unusual: power operator is `**`"
      ]
    },
    {
      "cell_type": "code",
      "execution_count": null,
      "metadata": {
        "id": "yHdqyzSsa7gr"
      },
      "outputs": [],
      "source": [
        "print(\"5 + 3   =\", 5 + 3)\n",
        "print(\"5 - 3   =\", 5 - 3)\n",
        "print(\"5 * 3   =\", 5 * 3)\n",
        "print(\"5 / 3   =\", 5 / 3)\n",
        "print(\"5 ** 3  =\", 5 ** 3)            # Power\n",
        "print(\"5**(1/2)=\", 5 ** (1/2))        # Square root = power 1/2"
      ]
    },
    {
      "cell_type": "markdown",
      "metadata": {
        "id": "6O1s7Sdsa7gr"
      },
      "source": [
        "#### 2.1.1. Basic calculations with variables\n",
        "* Usually we don't print the results of calculations, but store them in variables"
      ]
    },
    {
      "cell_type": "code",
      "execution_count": null,
      "metadata": {
        "id": "CX3i9nhza7gr"
      },
      "outputs": [],
      "source": [
        "# Example: how far can you count with 1 byte?\n",
        "n_values  = 2\n",
        "n_bits    = 8\n",
        "max_value = n_values ** n_bits\n",
        "print(max_value)"
      ]
    },
    {
      "cell_type": "markdown",
      "metadata": {
        "id": "p5cWVDWla7gr"
      },
      "source": [
        "#### 2.2 Comparison\n",
        "* Use `==` to check for equality\n",
        "* Ordering of `<=` and `>=` like in spoken language (\"smaller or equal\")"
      ]
    },
    {
      "cell_type": "code",
      "execution_count": null,
      "metadata": {
        "id": "tTwpDbjRa7gr"
      },
      "outputs": [],
      "source": [
        "print(\"5 == 3 :\", 5 == 3)\n",
        "print(\"5 != 3 :\", 5 != 3)\n",
        "print(\"5 < 3  :\", 5 < 3)\n",
        "print(\"5 > 3  :\", 5 > 3)\n",
        "print(\"5 <= 3 :\", 5 <= 3)\n",
        "print(\"5 >= 3 :\", 5 >= 3)"
      ]
    },
    {
      "cell_type": "markdown",
      "metadata": {
        "id": "5zPeBERoa7gr"
      },
      "source": [
        "#### 2.3 Logical\n",
        "* Combine two conditions"
      ]
    },
    {
      "cell_type": "code",
      "execution_count": null,
      "metadata": {
        "id": "x4GhgRVta7gr"
      },
      "outputs": [],
      "source": [
        "print(\"1==1 and 1==2 :\", 1==1 and 1==2)\n",
        "print(\"1==1 or 1==2  :\", 1==1 or 1==2)\n",
        "print(\"not 1==2      :\", not 1==2)"
      ]
    },
    {
      "cell_type": "markdown",
      "metadata": {
        "id": "RcJC9Q7ta7gr"
      },
      "source": [
        "#### Exercises\n",
        "* Create a variable `nobs` and assign it the value 100\n",
        "* Create a variable `slices` and assign it the value 5\n",
        "* Calcualte the number of observations per slice and store the result in an appropriately named variable\n",
        "* Answer the question whether the number of observations per slice is smaller than 25"
      ]
    },
    {
      "cell_type": "code",
      "execution_count": null,
      "metadata": {
        "id": "m2RwnWANa7gr"
      },
      "outputs": [],
      "source": [
        "# Python code goes here"
      ]
    },
    {
      "cell_type": "markdown",
      "metadata": {
        "id": "EP_QJUMXa7gs"
      },
      "source": [
        "## *Appendix: more operator examples"
      ]
    },
    {
      "cell_type": "markdown",
      "metadata": {
        "id": "IH0f0Jc_a7gs"
      },
      "source": [
        "#### *Assignment\n",
        "* Instead of `a = a+1` write `a += 1`"
      ]
    },
    {
      "cell_type": "code",
      "execution_count": null,
      "metadata": {
        "id": "L8iLvtxca7gs"
      },
      "outputs": [],
      "source": [
        "a = 1\n",
        "a += 1\n",
        "print(a)"
      ]
    },
    {
      "cell_type": "markdown",
      "metadata": {
        "id": "Jvfadmkra7gs"
      },
      "source": [
        "#### *Membership"
      ]
    },
    {
      "cell_type": "code",
      "execution_count": null,
      "metadata": {
        "id": "Ax0xovz7a7gs"
      },
      "outputs": [],
      "source": [
        "print(\"Is 3 in range(1,5)? --\", 3 in range(1,5))\n",
        "print(\"Is 5 in range(1,5)? --\", 5 in range(1,5))"
      ]
    },
    {
      "cell_type": "markdown",
      "metadata": {
        "id": "uPhX14mIa7gs"
      },
      "source": [
        "#### *Identity\n",
        "* `==` checks whether the **content** is equal\n",
        "* `is` checks whether two vairables are **identical** (= point to the same object in memory)"
      ]
    },
    {
      "cell_type": "code",
      "execution_count": null,
      "metadata": {
        "id": "cBZMNzida7gs"
      },
      "outputs": [],
      "source": [
        "a = [1, 2, 3]\n",
        "b = a                        # <--- Do NOT use this!\n",
        "c = [1, 2, 3]\n",
        "print(\"a is b:\", a is b)\n",
        "print(\"a is c:\", a is c)\n",
        "print(\"a == c:\", a == c)\n"
      ]
    },
    {
      "cell_type": "markdown",
      "metadata": {
        "id": "f3jnuSkEa7gs"
      },
      "source": [
        "#### *Why is identity relevant?\n",
        "* Assignment with `=` works differently in Python\n",
        "    * May lead to surprises\n",
        "* Use `.copy()` as alternative"
      ]
    },
    {
      "cell_type": "code",
      "execution_count": null,
      "metadata": {
        "id": "3sxwLzIYa7gs"
      },
      "outputs": [],
      "source": [
        "# Create three lists\n",
        "a = [1,2]\n",
        "b = a\n",
        "c = a.copy()      # <--- MUCH better!\n",
        "\n",
        "# Change a ... what happens?\n",
        "a.append(3)\n",
        "print(\"a:\", a)\n",
        "print(\"b:\", b)    # <--- changed\n",
        "print(\"c:\", c)    # <--- unchanged"
      ]
    },
    {
      "cell_type": "markdown",
      "metadata": {
        "id": "TIuFPEfCa7gs"
      },
      "source": [
        "## *Appendix 2: Naming rules\n",
        "**Guidelines**:\n",
        "- Do not use Python reserved keywords.\n",
        "    - If not sure, use `my_` prefix. *Example:* `my_date`\n",
        "- Keep names descriptive but concise.\n",
        "- Start variables and functions with lowercase letters"
      ]
    },
    {
      "cell_type": "markdown",
      "metadata": {
        "id": "oEDjNWIGa7gs"
      },
      "source": [
        "| Type | Convention | Example |\n",
        "|------|------------|---------|\n",
        "| Variables | `snake_case lowercase first` | `my_variable = 10` |\n",
        "| Functions | `snake_case lowercase first` | `def my_function():` |\n",
        "| *Classes | `CamelCase uppercase first` | `class MyClass:` |\n",
        "| *Modules & Packages | `snake_case lowercase first` | `import my_module` |"
      ]
    }
  ],
  "metadata": {
    "colab": {
      "provenance": [],
      "include_colab_link": true
    },
    "kernelspec": {
      "display_name": "Python 3 (ipykernel)",
      "language": "python",
      "name": "python3"
    },
    "language_info": {
      "codemirror_mode": {
        "name": "ipython",
        "version": 3
      },
      "file_extension": ".py",
      "mimetype": "text/x-python",
      "name": "python",
      "nbconvert_exporter": "python",
      "pygments_lexer": "ipython3",
      "version": "3.11.5"
    }
  },
  "nbformat": 4,
  "nbformat_minor": 0
}